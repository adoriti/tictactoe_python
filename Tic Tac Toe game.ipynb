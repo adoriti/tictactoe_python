{
 "cells": [
  {
   "cell_type": "markdown",
   "metadata": {},
   "source": [
    "**Creat a board**"
   ]
  },
  {
   "cell_type": "code",
   "execution_count": 2,
   "metadata": {},
   "outputs": [],
   "source": [
    "from IPython.display import clear_output\n",
    "\n",
    "def display_board(board):\n",
    "    clear_output()\n",
    "    print(board[7]+'|'+board[8]+'|'+board[9])\n",
    "    print('-|-|-')\n",
    "    print(board[4]+'|'+board[5]+'|'+board[6])\n",
    "    print('-|-|-')\n",
    "    print(board[1]+'|'+board[2]+'|'+board[3])"
   ]
  },
  {
   "cell_type": "code",
   "execution_count": 3,
   "metadata": {},
   "outputs": [
    {
     "name": "stdout",
     "output_type": "stream",
     "text": [
      "X|O|X\n",
      "-|-|-\n",
      "O|X| \n",
      "-|-|-\n",
      "X|O|X\n"
     ]
    }
   ],
   "source": [
    "test_board = ['#','X','O','X','O','X',' ','X','O','X']\n",
    "display_board(test_board)"
   ]
  },
  {
   "cell_type": "code",
   "execution_count": 4,
   "metadata": {},
   "outputs": [],
   "source": [
    "def player_input():\n",
    "    player1 = ''\n",
    "    while player1 != 'O' and player1 != 'X':\n",
    "        player1 = input('Please choose \"X\" or \"O\" for player 1:')\n",
    "    if player1 == 'X':\n",
    "        player2 = 'O'\n",
    "    else:\n",
    "        player2 = 'X'\n",
    "    return (player1,player2)"
   ]
  },
  {
   "cell_type": "code",
   "execution_count": 5,
   "metadata": {},
   "outputs": [],
   "source": [
    "def place_marker(board, marker, position):\n",
    "    board[position] = marker"
   ]
  },
  {
   "cell_type": "markdown",
   "metadata": {},
   "source": [
    "**Check if the move resulted to win**"
   ]
  },
  {
   "cell_type": "code",
   "execution_count": 6,
   "metadata": {},
   "outputs": [],
   "source": [
    "def win_check(board, mark):\n",
    "    return (board[1] == board[2] == board[3] == mark) or (board[4] == board[5] == board[6] == mark) or (board[7] == board[8] == board[9] == mark) or (board[1] == board[4] == board[7] == mark) or (board[2] == board[5] == board[8] == mark) or (board[3] == board[6] == board[9] == mark) or (board[1] == board[5] == board[9] == mark) or (board[3] == board[5] == board[7] == mark)"
   ]
  },
  {
   "cell_type": "markdown",
   "metadata": {},
   "source": [
    "randomly decide who goes first"
   ]
  },
  {
   "cell_type": "code",
   "execution_count": 7,
   "metadata": {},
   "outputs": [],
   "source": [
    "import random\n",
    "\n",
    "def choose_first():\n",
    "    first = random.randint(1,2)\n",
    "    print('The player who plays first is player {}.'.format(first))\n",
    "    return first"
   ]
  },
  {
   "cell_type": "markdown",
   "metadata": {},
   "source": [
    "Function that figures out whether a specific space is available"
   ]
  },
  {
   "cell_type": "code",
   "execution_count": 8,
   "metadata": {},
   "outputs": [],
   "source": [
    "def space_check(board, position):\n",
    "    return board[position] != 'X' and board[position] != 'O'"
   ]
  },
  {
   "cell_type": "markdown",
   "metadata": {},
   "source": [
    "A function that checks if the board is full:"
   ]
  },
  {
   "cell_type": "code",
   "execution_count": 9,
   "metadata": {},
   "outputs": [],
   "source": [
    "def full_board_check(board):\n",
    "    result = 0\n",
    "    for i in range(1,10):\n",
    "        if board[i] == 'X' or board[i] == 'O':\n",
    "            result += 1\n",
    "    return result == 9"
   ]
  },
  {
   "cell_type": "code",
   "execution_count": 10,
   "metadata": {},
   "outputs": [
    {
     "data": {
      "text/plain": [
       "False"
      ]
     },
     "execution_count": 10,
     "metadata": {},
     "output_type": "execute_result"
    }
   ],
   "source": [
    "full_board_check(test_board)"
   ]
  },
  {
   "cell_type": "markdown",
   "metadata": {},
   "source": [
    "A function that asks for the position and then checks if it is empty:"
   ]
  },
  {
   "cell_type": "code",
   "execution_count": 11,
   "metadata": {},
   "outputs": [],
   "source": [
    "def player_choice(board):\n",
    "    good_choice = False\n",
    "    while good_choice == False:\n",
    "        choice = int(input('Which is your next move?  '))\n",
    "        if space_check(board, choice):\n",
    "            good_choice = True\n",
    "            return choice\n",
    "        else:\n",
    "            print('This space is not available. Try again.')"
   ]
  },
  {
   "cell_type": "code",
   "execution_count": 12,
   "metadata": {},
   "outputs": [
    {
     "name": "stdout",
     "output_type": "stream",
     "text": [
      "X|O|X\n",
      "-|-|-\n",
      "O|X| \n",
      "-|-|-\n",
      "X|O|X\n"
     ]
    }
   ],
   "source": [
    "display_board(test_board)"
   ]
  },
  {
   "cell_type": "markdown",
   "metadata": {},
   "source": [
    "A replay function:"
   ]
  },
  {
   "cell_type": "code",
   "execution_count": 13,
   "metadata": {},
   "outputs": [],
   "source": [
    "def replay():\n",
    "    answer = ''\n",
    "    while answer != 'y' and answer != 'n':\n",
    "        answer = input('Do you want to play again (y/n)?  ')\n",
    "    if answer == 'y':\n",
    "        return True\n",
    "    else:\n",
    "        return False"
   ]
  },
  {
   "cell_type": "markdown",
   "metadata": {},
   "source": [
    "**Put the game together**"
   ]
  },
  {
   "cell_type": "code",
   "execution_count": 17,
   "metadata": {},
   "outputs": [
    {
     "name": "stdout",
     "output_type": "stream",
     "text": [
      "X|X|O\n",
      "-|-|-\n",
      "O|O|X\n",
      "-|-|-\n",
      "X|O|X\n",
      "There is a tie!\n",
      "Do you want to play again (y/n)?  n\n"
     ]
    }
   ],
   "source": [
    "print('Welcome to Tic Tac Toe!')\n",
    "play = True\n",
    "\n",
    "while play == True:\n",
    "    board = ['#',' ',' ',' ',' ',' ',' ',' ',' ',' ']\n",
    "    player1_marker, player2_marker = player_input()\n",
    "    game_on = True\n",
    "\n",
    "    # decide who plays first:\n",
    "    current_player = choose_first()\n",
    "\n",
    "    while game_on == True:\n",
    "        # player 1:\n",
    "        while current_player == 1:\n",
    "            print(\"Player's 1 turn\")\n",
    "            position = player_choice(board)\n",
    "            place_marker(board, player1_marker, position)\n",
    "            display_board(board)\n",
    "    \n",
    "            if win_check(board, player1_marker):\n",
    "                print('Player 1 won!')\n",
    "                game_on = False\n",
    "                break\n",
    "            elif full_board_check(board):\n",
    "                print('There is a tie!')\n",
    "                game_on = False\n",
    "                break\n",
    "            else:\n",
    "                current_player = 2\n",
    "    \n",
    "        # Player2's turn.\n",
    "        while current_player == 2:\n",
    "            print(\"Player's 2 turn\")\n",
    "            position = player_choice(board)\n",
    "            place_marker(board, player2_marker, position)\n",
    "            display_board(board)\n",
    "    \n",
    "            if win_check(board, player2_marker):\n",
    "                print('Player 2 won!')\n",
    "                game_on = False\n",
    "                break\n",
    "            elif full_board_check(board):\n",
    "                print('There is a tie!')\n",
    "                game_on = False\n",
    "                break\n",
    "            else:\n",
    "                current_player = 1\n",
    "        \n",
    "    else:\n",
    "        if replay():\n",
    "            game_on = True\n",
    "        else:\n",
    "            play = False\n",
    "            break"
   ]
  }
 ],
 "metadata": {
  "kernelspec": {
   "display_name": "Python 3",
   "language": "python",
   "name": "python3"
  },
  "language_info": {
   "codemirror_mode": {
    "name": "ipython",
    "version": 3
   },
   "file_extension": ".py",
   "mimetype": "text/x-python",
   "name": "python",
   "nbconvert_exporter": "python",
   "pygments_lexer": "ipython3",
   "version": "3.7.1"
  }
 },
 "nbformat": 4,
 "nbformat_minor": 2
}
